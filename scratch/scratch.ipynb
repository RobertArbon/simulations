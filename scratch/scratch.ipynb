{
 "cells": [
  {
   "cell_type": "code",
   "execution_count": 82,
   "metadata": {},
   "outputs": [],
   "source": [
    "from rdkit.Chem import AllChem\n",
    "from openff.interchange import Interchange\n",
    "from openff.toolkit import Molecule\n",
    "from openmm.app import ForceField, HBonds, PME, Simulation\n",
    "\n",
    "from openmm.unit import kelvin, femtosecond, picosecond,  kilojoules, mole, nanometer, dalton\n",
    "from openmm import app\n",
    "import openmm\n",
    "from rdkit import Chem\n",
    "from rdkit.Chem import AllChem\n",
    "\n",
    "import pandas as pd\n",
    "import matplotlib.pyplot as plt\n",
    "import seaborn as sns\n",
    "import typing as T\n",
    "\n",
    "# import h5py\n",
    "import numpy as np\n",
    "import mdtraj as md\n",
    "\n",
    "smiles = 'O=C(CCCn1c(=O)c2ccccc2n(CC(=O)Nc2cccc(Cl)c2)c1=O)NCc1ccc2c(c1)OCO2'\n",
    "smiles = 'CCCCO'"
   ]
  },
  {
   "cell_type": "code",
   "execution_count": 94,
   "metadata": {},
   "outputs": [
    {
     "ename": "ZeroDivisionError",
     "evalue": "division by zero",
     "output_type": "error",
     "traceback": [
      "\u001b[0;31m---------------------------------------------------------------------------\u001b[0m",
      "\u001b[0;31mZeroDivisionError\u001b[0m                         Traceback (most recent call last)",
      "Cell \u001b[0;32mIn[94], line 5\u001b[0m\n\u001b[1;32m      3\u001b[0m n \u001b[38;5;241m=\u001b[39m \u001b[38;5;241m1\u001b[39m\n\u001b[1;32m      4\u001b[0m \u001b[38;5;28;01mfor\u001b[39;00m i \u001b[38;5;129;01min\u001b[39;00m \u001b[38;5;28mrange\u001b[39m(n):\n\u001b[0;32m----> 5\u001b[0m     \u001b[38;5;28mprint\u001b[39m(Tmin \u001b[38;5;241m+\u001b[39m \u001b[43m(\u001b[49m\u001b[43mi\u001b[49m\u001b[43m)\u001b[49m\u001b[38;5;241;43m*\u001b[39;49m\u001b[43m(\u001b[49m\u001b[43mTmax\u001b[49m\u001b[38;5;241;43m-\u001b[39;49m\u001b[43mTmin\u001b[49m\u001b[43m)\u001b[49m\u001b[38;5;241;43m/\u001b[39;49m\u001b[43m(\u001b[49m\u001b[43mn\u001b[49m\u001b[38;5;241;43m-\u001b[39;49m\u001b[38;5;241;43m1\u001b[39;49m\u001b[43m)\u001b[49m)\n",
      "\u001b[0;31mZeroDivisionError\u001b[0m: division by zero"
     ]
    }
   ],
   "source": [
    "Tmin = 100\n",
    "Tmax = 310\n",
    "n = 2\n",
    "for i in range(n):\n",
    "    print(Tmin + (i)*(Tmax-Tmin)/(n-1))"
   ]
  },
  {
   "cell_type": "code",
   "execution_count": 71,
   "metadata": {},
   "outputs": [],
   "source": [
    "\n",
    "mol = Molecule.from_smiles(smiles)\n",
    "mol.generate_conformers()"
   ]
  },
  {
   "cell_type": "code",
   "execution_count": 72,
   "metadata": {},
   "outputs": [],
   "source": [
    "top = mol.to_topology().to_openmm()\n",
    "pos = mol.conformers[0].to_openmm()"
   ]
  },
  {
   "cell_type": "code",
   "execution_count": 73,
   "metadata": {},
   "outputs": [],
   "source": [
    "model = app.Modeller(top, pos)"
   ]
  },
  {
   "cell_type": "code",
   "execution_count": 76,
   "metadata": {},
   "outputs": [],
   "source": [
    "from openmmforcefields.generators import SMIRNOFFTemplateGenerator\n",
    "smirnoff = SMIRNOFFTemplateGenerator(molecules=mol, forcefield=\"openff-2.1.0.offxml\")\n",
    "forcefield = ForceField('amber/tip3p_standard.xml')\n",
    "forcefield.registerTemplateGenerator(smirnoff.generator)\n"
   ]
  },
  {
   "cell_type": "code",
   "execution_count": 77,
   "metadata": {},
   "outputs": [],
   "source": [
    "model.addSolvent(forcefield, padding=1*nanometer)\n"
   ]
  },
  {
   "cell_type": "code",
   "execution_count": 80,
   "metadata": {},
   "outputs": [],
   "source": [
    "system = forcefield.createSystem(model.topology, \n",
    "                        nonbondedMethod=PME,\n",
    "                        nonbondedCutoff=1*nanometer, \n",
    "                        constraints=HBonds, \n",
    "                        rigidWater=True, \n",
    "                        )"
   ]
  },
  {
   "cell_type": "code",
   "execution_count": 87,
   "metadata": {},
   "outputs": [
    {
     "ename": "AttributeError",
     "evalue": "'System' object has no attribute 'topology'",
     "output_type": "error",
     "traceback": [
      "\u001b[0;31m---------------------------------------------------------------------------\u001b[0m",
      "\u001b[0;31mAttributeError\u001b[0m                            Traceback (most recent call last)",
      "Cell \u001b[0;32mIn[87], line 1\u001b[0m\n\u001b[0;32m----> 1\u001b[0m \u001b[43msystem\u001b[49m\u001b[38;5;241;43m.\u001b[39;49m\u001b[43mtopology\u001b[49m\n",
      "\u001b[0;31mAttributeError\u001b[0m: 'System' object has no attribute 'topology'"
     ]
    }
   ],
   "source": [
    "system."
   ]
  },
  {
   "cell_type": "code",
   "execution_count": 81,
   "metadata": {},
   "outputs": [],
   "source": [
    "integrator = openmm.LangevinMiddleIntegrator(300*kelvin, \n",
    "                                             1/(2*picosecond), \n",
    "                                             1*femtosecond)"
   ]
  },
  {
   "cell_type": "code",
   "execution_count": 88,
   "metadata": {},
   "outputs": [
    {
     "name": "stdout",
     "output_type": "stream",
     "text": [
      "\u001b[0;31mInit signature:\u001b[0m \u001b[0mopenmm\u001b[0m\u001b[0;34m.\u001b[0m\u001b[0mLangevinMiddleIntegrator\u001b[0m\u001b[0;34m(\u001b[0m\u001b[0;34m*\u001b[0m\u001b[0margs\u001b[0m\u001b[0;34m)\u001b[0m\u001b[0;34m\u001b[0m\u001b[0;34m\u001b[0m\u001b[0m\n",
      "\u001b[0;31mDocstring:\u001b[0m     \n",
      "This is an Integrator which simulates a System using Langevin dynamics, with the LFMiddle discretization (J. Phys. Chem. A 2019, 123, 28, 6056-6079). This method tend to produce more accurate configurational sampling than other discretizations, such as the one used in LangevinIntegrator.\n",
      "\n",
      "\n",
      "The algorithm is closely related to the BAOAB discretization (Proc. R. Soc. A. 472: 20160138). Both methods produce identical trajectories, but LFMiddle returns half step (leapfrog) velocities, while BAOAB returns on-step velocities. The former provide a much more accurate sampling of the thermal ensemble.\n",
      "\u001b[0;31mInit docstring:\u001b[0m\n",
      "__init__(self, temperature, frictionCoeff, stepSize) -> LangevinMiddleIntegrator\n",
      "__init__(self, other) -> LangevinMiddleIntegrator\n",
      "Create a LangevinMiddleIntegrator.\n",
      "\n",
      "Parameters\n",
      "----------\n",
      "temperature : double\n",
      "    the temperature of the heat bath (in Kelvin)\n",
      "frictionCoeff : double\n",
      "    the friction coefficient which couples the system to the heat bath (in inverse picoseconds)\n",
      "stepSize : double\n",
      "    the step size with which to integrate the system (in picoseconds)\n",
      "\u001b[0;31mFile:\u001b[0m           ~/micromamba/envs/simulations/lib/python3.9/site-packages/openmm/openmm.py\n",
      "\u001b[0;31mType:\u001b[0m           type\n",
      "\u001b[0;31mSubclasses:\u001b[0m     "
     ]
    }
   ],
   "source": [
    "?openmm.LangevinMiddleIntegrator"
   ]
  },
  {
   "cell_type": "code",
   "execution_count": 90,
   "metadata": {},
   "outputs": [
    {
     "name": "stdout",
     "output_type": "stream",
     "text": [
      "\u001b[0;31mInit signature:\u001b[0m\n",
      "\u001b[0mSimulation\u001b[0m\u001b[0;34m(\u001b[0m\u001b[0;34m\u001b[0m\n",
      "\u001b[0;34m\u001b[0m    \u001b[0mtopology\u001b[0m\u001b[0;34m,\u001b[0m\u001b[0;34m\u001b[0m\n",
      "\u001b[0;34m\u001b[0m    \u001b[0msystem\u001b[0m\u001b[0;34m,\u001b[0m\u001b[0;34m\u001b[0m\n",
      "\u001b[0;34m\u001b[0m    \u001b[0mintegrator\u001b[0m\u001b[0;34m,\u001b[0m\u001b[0;34m\u001b[0m\n",
      "\u001b[0;34m\u001b[0m    \u001b[0mplatform\u001b[0m\u001b[0;34m=\u001b[0m\u001b[0;32mNone\u001b[0m\u001b[0;34m,\u001b[0m\u001b[0;34m\u001b[0m\n",
      "\u001b[0;34m\u001b[0m    \u001b[0mplatformProperties\u001b[0m\u001b[0;34m=\u001b[0m\u001b[0;32mNone\u001b[0m\u001b[0;34m,\u001b[0m\u001b[0;34m\u001b[0m\n",
      "\u001b[0;34m\u001b[0m    \u001b[0mstate\u001b[0m\u001b[0;34m=\u001b[0m\u001b[0;32mNone\u001b[0m\u001b[0;34m,\u001b[0m\u001b[0;34m\u001b[0m\n",
      "\u001b[0;34m\u001b[0m\u001b[0;34m)\u001b[0m\u001b[0;34m\u001b[0m\u001b[0;34m\u001b[0m\u001b[0m\n",
      "\u001b[0;31mDocstring:\u001b[0m     \n",
      "Simulation provides a simplified API for running simulations with OpenMM and reporting results.\n",
      "\n",
      "A Simulation ties together various objects used for running a simulation: a Topology, System,\n",
      "Integrator, and Context.  To use it, you provide the Topology, System, and Integrator, and it\n",
      "creates the Context automatically.\n",
      "\n",
      "Simulation also maintains a list of \"reporter\" objects that record or analyze data as the simulation\n",
      "runs, such as writing coordinates to files or displaying structures on the screen.  For example,\n",
      "the following line will cause a file called \"output.pdb\" to be created, and a structure written to\n",
      "it every 1000 time steps:\n",
      "\n",
      "simulation.reporters.append(PDBReporter('output.pdb', 1000))\n",
      "\u001b[0;31mInit docstring:\u001b[0m\n",
      "Create a Simulation.\n",
      "\n",
      "Parameters\n",
      "----------\n",
      "topology : Topology\n",
      "    A Topology describing the the system to simulate\n",
      "system : System or XML file name\n",
      "    The OpenMM System object to simulate (or the name of an XML file\n",
      "    with a serialized System)\n",
      "integrator : Integrator or XML file name\n",
      "    The OpenMM Integrator to use for simulating the System (or the name\n",
      "    of an XML file with a serialized System)\n",
      "platform : Platform=None\n",
      "    If not None, the OpenMM Platform to use\n",
      "platformProperties : map=None\n",
      "    If not None, a set of platform-specific properties to pass to the\n",
      "    Context's constructor.  This argument may only be used if a specific\n",
      "    Platform is specified.\n",
      "state : XML file name=None\n",
      "    The name of an XML file containing a serialized State. If not None,\n",
      "    the information stored in state will be transferred to the generated\n",
      "    Simulation object.\n",
      "\u001b[0;31mFile:\u001b[0m           ~/micromamba/envs/simulations/lib/python3.9/site-packages/openmm/app/simulation.py\n",
      "\u001b[0;31mType:\u001b[0m           type\n",
      "\u001b[0;31mSubclasses:\u001b[0m     "
     ]
    }
   ],
   "source": [
    "# simulation = Simulation(model.topology, system, integrator)\n",
    "?Simulation"
   ]
  },
  {
   "cell_type": "code",
   "execution_count": 89,
   "metadata": {},
   "outputs": [
    {
     "data": {
      "text/plain": [
       "['addConstraint',\n",
       " 'addForce',\n",
       " 'addParticle',\n",
       " 'getConstraintParameters',\n",
       " 'getDefaultPeriodicBoxVectors',\n",
       " 'getForce',\n",
       " 'getForces',\n",
       " 'getNumConstraints',\n",
       " 'getNumForces',\n",
       " 'getNumParticles',\n",
       " 'getParticleMass',\n",
       " 'getVirtualSite',\n",
       " 'isVirtualSite',\n",
       " 'removeConstraint',\n",
       " 'removeForce',\n",
       " 'setConstraintParameters',\n",
       " 'setDefaultPeriodicBoxVectors',\n",
       " 'setParticleMass',\n",
       " 'setVirtualSite',\n",
       " 'this',\n",
       " 'thisown',\n",
       " 'usesPeriodicBoundaryConditions']"
      ]
     },
     "execution_count": 89,
     "metadata": {},
     "output_type": "execute_result"
    }
   ],
   "source": [
    "[x for x in dir(system) if x[0] != '_']"
   ]
  },
  {
   "cell_type": "code",
   "execution_count": null,
   "metadata": {},
   "outputs": [],
   "source": []
  }
 ],
 "metadata": {
  "kernelspec": {
   "display_name": "Python 3",
   "language": "python",
   "name": "python3"
  },
  "language_info": {
   "codemirror_mode": {
    "name": "ipython",
    "version": 3
   },
   "file_extension": ".py",
   "mimetype": "text/x-python",
   "name": "python",
   "nbconvert_exporter": "python",
   "pygments_lexer": "ipython3",
   "version": "3.9.18"
  }
 },
 "nbformat": 4,
 "nbformat_minor": 2
}
